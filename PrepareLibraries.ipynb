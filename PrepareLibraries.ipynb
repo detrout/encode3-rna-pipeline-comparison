{
 "metadata": {
  "name": ""
 },
 "nbformat": 3,
 "nbformat_minor": 0,
 "worksheets": [
  {
   "cells": [
    {
     "cell_type": "heading",
     "level": 1,
     "metadata": {},
     "source": [
      "Prepare libraries"
     ]
    },
    {
     "cell_type": "code",
     "collapsed": false,
     "input": [
      "from __future__ import print_function"
     ],
     "language": "python",
     "metadata": {},
     "outputs": [],
     "prompt_number": 1
    },
    {
     "cell_type": "code",
     "collapsed": false,
     "input": [
      "from collections import namedtuple, Counter\n",
      "from pprint import pprint\n",
      "import os\n",
      "import re\n",
      "from urlparse import urljoin\n",
      "import gzip"
     ],
     "language": "python",
     "metadata": {},
     "outputs": [],
     "prompt_number": 2
    },
    {
     "cell_type": "code",
     "collapsed": false,
     "input": [
      "import private"
     ],
     "language": "python",
     "metadata": {},
     "outputs": [],
     "prompt_number": 3
    },
    {
     "cell_type": "heading",
     "level": 2,
     "metadata": {},
     "source": [
      "Download Fastqs"
     ]
    },
    {
     "cell_type": "markdown",
     "metadata": {},
     "source": [
      "Download the libraries from hudson alpha. Unfortunately their URL includes a secret token so I can't include it."
     ]
    },
    {
     "cell_type": "code",
     "collapsed": false,
     "input": [
      "libraries = [\n",
      "  'SL32141',\n",
      "  'SL32142',\n",
      "  'SL32143',\n",
      "  'SL32144'\n",
      "]"
     ],
     "language": "python",
     "metadata": {},
     "outputs": [],
     "prompt_number": 4
    },
    {
     "cell_type": "code",
     "collapsed": false,
     "input": [
      "cwd = os.getcwd()\n",
      "for lib_id in libraries:\n",
      "    if not os.path.exists(lib_id):\n",
      "        os.mkdir(lib_id)\n",
      "    os.chdir(lib_id)\n",
      "    target_file = lib_id + '.fastq.gz'\n",
      "    source_url = urljoin(private.haurl, target_file)\n",
      "    if not os.path.exists(target_file):\n",
      "        ! echo curl -O {source_url}\n",
      "    else:\n",
      "        print('{} already exists'.format(target_file))\n",
      "    os.chdir(cwd)"
     ],
     "language": "python",
     "metadata": {},
     "outputs": [
      {
       "output_type": "stream",
       "stream": "stdout",
       "text": [
        "SL32141.fastq.gz already exists\n",
        "SL32142.fastq.gz already exists\n",
        "SL32143.fastq.gz already exists\n",
        "SL32144.fastq.gz already exists\n"
       ]
      }
     ],
     "prompt_number": 5
    },
    {
     "cell_type": "heading",
     "level": 2,
     "metadata": {},
     "source": [
      "Fix fastqs"
     ]
    },
    {
     "cell_type": "markdown",
     "metadata": {},
     "source": [
      "The Hudson Alpha download site has all both ends of every lane merged into a single file. So this file needs to be split out into its individual reads and flowcells."
     ]
    },
    {
     "cell_type": "markdown",
     "metadata": {},
     "source": [
      "Fastq header\n",
      "\n",
      "'''@HWI-ST354R:434:C2812ACXX:2:1101:1282:2086 1:N:0:TAAGGCG'''\n",
      "\n",
      "fields\n",
      "\n",
      "  * serial number\n",
      "  * don't know\n",
      "  * flowcell\n",
      "  * lane (probably)\n",
      "  * tile\n",
      "  * x (or y)\n",
      "  * y (or x)\n",
      "  * read\n",
      "  * filter\n",
      "  * don't know\n",
      "  * demultiplex string"
     ]
    },
    {
     "cell_type": "markdown",
     "metadata": {},
     "source": [
      "Convert header to something easibily processable"
     ]
    },
    {
     "cell_type": "code",
     "collapsed": false,
     "input": [
      "HEADER_FIELD_SEP_RE = re.compile('[: ]')\n",
      "Header = namedtuple('Header', ['serial_number', 'unknown1', 'flowcell_id', 'lane', 'tile', 'x', 'y', \n",
      "                               'read', 'filter', 'unknown2', 'multiplex_sequence', 'library_id'])\n",
      "def parse_header(lib_id, header):\n",
      "    fields = HEADER_FIELD_SEP_RE.split(header)\n",
      "    assert len(fields) == 11\n",
      "    fields.append(lib_id)\n",
      "    return Header(*fields)"
     ],
     "language": "python",
     "metadata": {},
     "outputs": [],
     "prompt_number": 6
    },
    {
     "cell_type": "markdown",
     "metadata": {},
     "source": [
      "split concatenated library stream into seperate files. The split is based on the file name generated from the header."
     ]
    },
    {
     "cell_type": "code",
     "collapsed": false,
     "input": [
      "def split_fastq_stream(instream, lib_id, dest_dir):\n",
      "    outstreams = {}\n",
      "    reads = Counter()\n",
      "    for ln, line in enumerate(instream):\n",
      "        if (ln % 4) == 0:\n",
      "            # seqhead\n",
      "            header = parse_header(lib_id, line.rstrip())\n",
      "            reads[(header.flowcell_id, header.lane, header.multiplex_sequence, header.read)] += 1\n",
      "            pathname = os.path.join(dest_dir, \n",
      "                                    '{library_id}_f{flowcell_id}_l{lane}_r{read}.fastq.gz'.format(**header._asdict()))\n",
      "            if pathname in outstreams:\n",
      "                out = outstreams[pathname]\n",
      "            else:\n",
      "                out = gzip.GzipFile(pathname, 'w')\n",
      "                outstreams[pathname] = out\n",
      "                print('Opening {}'.format(pathname))\n",
      "            assert line[0] == '@'\n",
      "        elif (ln % 4) == 1:\n",
      "            # seq\n",
      "            pass\n",
      "        elif (ln % 4) == 2:\n",
      "            # quality  header\n",
      "            assert line[0] == '+'\n",
      "        elif (ln % 4) == 3:\n",
      "            # quality scores\n",
      "            pass\n",
      "        out.write(line)\n",
      "    for pathname in outstreams:\n",
      "        outstreams[pathname].close()\n",
      "    return reads\n"
     ],
     "language": "python",
     "metadata": {},
     "outputs": [],
     "prompt_number": 7
    },
    {
     "cell_type": "markdown",
     "metadata": {},
     "source": [
      "Main driver iterating over the 4 libraries."
     ]
    },
    {
     "cell_type": "code",
     "collapsed": false,
     "input": [
      "reads = Counter()\n",
      "for lib_id in libraries:\n",
      "    pathname = os.path.join(lib_id, lib_id + '.fastq.gz')\n",
      "    with gzip.GzipFile(pathname, 'r') as instream:\n",
      "        print('Processing: {}'.format(pathname))\n",
      "        reads.update(split_fastq_stream(instream, lib_id, lib_id))"
     ],
     "language": "python",
     "metadata": {},
     "outputs": [],
     "prompt_number": "*"
    },
    {
     "cell_type": "code",
     "collapsed": false,
     "input": [
      "for k in sorted(reads):\n",
      "    print('{}\\t{}'.format(k, reads[k]))"
     ],
     "language": "python",
     "metadata": {},
     "outputs": [
      {
       "output_type": "stream",
       "stream": "stdout",
       "text": [
        "('C1JE0ACXX', '1', 'AGGCAGA', '1')\t24699947\n",
        "('C1JE0ACXX', '1', 'AGGCAGA', '2')\t24699947\n",
        "('C1JE0ACXX', '1', 'CGTACTA', '1')\t24710039\n",
        "('C1JE0ACXX', '1', 'CGTACTA', '2')\t24710039\n",
        "('C1JE0ACXX', '1', 'TAAGGCG', '1')\t25867721\n",
        "('C1JE0ACXX', '1', 'TAAGGCG', '2')\t25867721\n",
        "('C1JE0ACXX', '1', 'TCCTGAG', '1')\t32914561\n",
        "('C1JE0ACXX', '1', 'TCCTGAG', '2')\t32914561\n",
        "('C1JE0ACXX', '2', 'AGGCAGA', '1')\t29852237\n",
        "('C1JE0ACXX', '2', 'AGGCAGA', '2')\t29852237\n",
        "('C1JE0ACXX', '2', 'CGTACTA', '1')\t29840487\n",
        "('C1JE0ACXX', '2', 'CGTACTA', '2')\t29840487\n",
        "('C1JE0ACXX', '2', 'TAAGGCG', '1')\t31531311\n",
        "('C1JE0ACXX', '2', 'TAAGGCG', '2')\t31531311\n",
        "('C1JE0ACXX', '2', 'TCCTGAG', '1')\t39824705\n",
        "('C1JE0ACXX', '2', 'TCCTGAG', '2')\t39824705\n",
        "('C2812ACXX', '2', 'AGGCAGA', '1')\t24663391\n",
        "('C2812ACXX', '2', 'AGGCAGA', '2')\t24663391\n",
        "('C2812ACXX', '2', 'CGTACTA', '1')\t25658295\n",
        "('C2812ACXX', '2', 'CGTACTA', '2')\t25658295\n",
        "('C2812ACXX', '2', 'TAAGGCG', '1')\t26489158\n",
        "('C2812ACXX', '2', 'TAAGGCG', '2')\t26489158\n",
        "('C2812ACXX', '2', 'TCCTGAG', '1')\t34195792\n",
        "('C2812ACXX', '2', 'TCCTGAG', '2')\t34195792\n",
        "('C2812ACXX', '3', 'AGGCAGA', '1')\t24914420\n",
        "('C2812ACXX', '3', 'AGGCAGA', '2')\t24914420\n",
        "('C2812ACXX', '3', 'CGTACTA', '1')\t25925711\n",
        "('C2812ACXX', '3', 'CGTACTA', '2')\t25925711\n",
        "('C2812ACXX', '3', 'TAAGGCG', '1')\t26784946\n",
        "('C2812ACXX', '3', 'TAAGGCG', '2')\t26784946\n",
        "('C2812ACXX', '3', 'TCCTGAG', '1')\t34623188\n",
        "('C2812ACXX', '3', 'TCCTGAG', '2')\t34623188\n"
       ]
      }
     ],
     "prompt_number": 11
    },
    {
     "cell_type": "markdown",
     "metadata": {},
     "source": [
      "In this case it looks like there was no variation based on the barcode sequence. The number of distinct groups counted by the tuple ```(flowcell id, lane, paired end, barcode)``` and the groups counted by the tuple ```(flowcell id, lane, paired end)``` were both 32."
     ]
    },
    {
     "cell_type": "code",
     "collapsed": false,
     "input": [
      "len(reads)"
     ],
     "language": "python",
     "metadata": {},
     "outputs": [
      {
       "metadata": {},
       "output_type": "pyout",
       "prompt_number": 12,
       "text": [
        "32"
       ]
      }
     ],
     "prompt_number": 12
    },
    {
     "cell_type": "code",
     "collapsed": false,
     "input": [
      "x =! ls */*_l?_r?.fastq* "
     ],
     "language": "python",
     "metadata": {},
     "outputs": [],
     "prompt_number": 15
    },
    {
     "cell_type": "code",
     "collapsed": false,
     "input": [
      "len(x)"
     ],
     "language": "python",
     "metadata": {},
     "outputs": [
      {
       "metadata": {},
       "output_type": "pyout",
       "prompt_number": 16,
       "text": [
        "32"
       ]
      }
     ],
     "prompt_number": 16
    },
    {
     "cell_type": "markdown",
     "metadata": {},
     "source": [
      "This is how the concatenated files were split. "
     ]
    },
    {
     "cell_type": "code",
     "collapsed": false,
     "input": [
      "x"
     ],
     "language": "python",
     "metadata": {},
     "outputs": [
      {
       "metadata": {},
       "output_type": "pyout",
       "prompt_number": 17,
       "text": [
        "['SL32141/SL32141_fC1JE0ACXX_l1_r1.fastq.gz',\n",
        " 'SL32141/SL32141_fC1JE0ACXX_l1_r2.fastq.gz',\n",
        " 'SL32141/SL32141_fC1JE0ACXX_l2_r1.fastq.gz',\n",
        " 'SL32141/SL32141_fC1JE0ACXX_l2_r2.fastq.gz',\n",
        " 'SL32141/SL32141_fC2812ACXX_l2_r1.fastq.gz',\n",
        " 'SL32141/SL32141_fC2812ACXX_l2_r2.fastq.gz',\n",
        " 'SL32141/SL32141_fC2812ACXX_l3_r1.fastq.gz',\n",
        " 'SL32141/SL32141_fC2812ACXX_l3_r2.fastq.gz',\n",
        " 'SL32142/SL32142_fC1JE0ACXX_l1_r1.fastq.gz',\n",
        " 'SL32142/SL32142_fC1JE0ACXX_l1_r2.fastq.gz',\n",
        " 'SL32142/SL32142_fC1JE0ACXX_l2_r1.fastq.gz',\n",
        " 'SL32142/SL32142_fC1JE0ACXX_l2_r2.fastq.gz',\n",
        " 'SL32142/SL32142_fC2812ACXX_l2_r1.fastq.gz',\n",
        " 'SL32142/SL32142_fC2812ACXX_l2_r2.fastq.gz',\n",
        " 'SL32142/SL32142_fC2812ACXX_l3_r1.fastq.gz',\n",
        " 'SL32142/SL32142_fC2812ACXX_l3_r2.fastq.gz',\n",
        " 'SL32143/SL32143_fC1JE0ACXX_l1_r1.fastq.gz',\n",
        " 'SL32143/SL32143_fC1JE0ACXX_l1_r2.fastq.gz',\n",
        " 'SL32143/SL32143_fC1JE0ACXX_l2_r1.fastq.gz',\n",
        " 'SL32143/SL32143_fC1JE0ACXX_l2_r2.fastq.gz',\n",
        " 'SL32143/SL32143_fC2812ACXX_l2_r1.fastq.gz',\n",
        " 'SL32143/SL32143_fC2812ACXX_l2_r2.fastq.gz',\n",
        " 'SL32143/SL32143_fC2812ACXX_l3_r1.fastq.gz',\n",
        " 'SL32143/SL32143_fC2812ACXX_l3_r2.fastq.gz',\n",
        " 'SL32144/SL32144_fC1JE0ACXX_l1_r1.fastq.gz',\n",
        " 'SL32144/SL32144_fC1JE0ACXX_l1_r2.fastq.gz',\n",
        " 'SL32144/SL32144_fC1JE0ACXX_l2_r1.fastq.gz',\n",
        " 'SL32144/SL32144_fC1JE0ACXX_l2_r2.fastq.gz',\n",
        " 'SL32144/SL32144_fC2812ACXX_l2_r1.fastq.gz',\n",
        " 'SL32144/SL32144_fC2812ACXX_l2_r2.fastq.gz',\n",
        " 'SL32144/SL32144_fC2812ACXX_l3_r1.fastq.gz',\n",
        " 'SL32144/SL32144_fC2812ACXX_l3_r2.fastq.gz']"
       ]
      }
     ],
     "prompt_number": 17
    },
    {
     "cell_type": "code",
     "collapsed": false,
     "input": [],
     "language": "python",
     "metadata": {},
     "outputs": []
    }
   ],
   "metadata": {}
  }
 ]
}